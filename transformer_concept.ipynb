{
 "cells": [
  {
   "cell_type": "code",
   "execution_count": 3,
   "id": "535a25f9-f52e-4ac9-a85e-9a7a3958df1c",
   "metadata": {},
   "outputs": [],
   "source": [
    "import numpy as np\n",
    "\n",
    "class Node:\n",
    "    def __init__(self):\n",
    "        # the vector stored at this node\n",
    "        self.data = np.random.randn(20)\n",
    "\n",
    "        # weights governing how this node interacts with other nodes\n",
    "        self.wkey = np.random.randn(20, 20)\n",
    "        self.wquery = np.random.randn(20,20)\n",
    "        self.wvalue = np.random.randn(20, 20)\n",
    "\n",
    "    def key(self):\n",
    "        # what do I have?\n",
    "        return self.wkey @ self.data\n",
    "\n",
    "    def query(self):\n",
    "        # what am I looking for?\n",
    "        return self.wquery @ self.data\n",
    "\n",
    "    def value(self):\n",
    "        # what do I publicly reveal/broadcast to others?\n",
    "        return self.wvalue @ self.data\n",
    "\n",
    "class Graph:\n",
    "    def __init__(self):\n",
    "        # make 10 nodes\n",
    "        self.nodes = [Node() for _ in range(10)]\n",
    "        # make 40 edges\n",
    "        randi = lambda: np.random.randint(len(self.nodes))\n",
    "        self.edges = [[randi(), randi()] for _ in range(40)]\n",
    "\n",
    "    def run(self):\n",
    "        updates = []\n",
    "        for i,n in enumerate(self.nodes):\n",
    "\n",
    "            # what is this node looking for?\n",
    "            q = n.query()\n",
    "\n",
    "            # find all edges that are input to this node\n",
    "            inputs = [self.nodes[ifrom] for (ifrom,ito) in self.edges if ito == i]\n",
    "            if len(inputs) == 0:\n",
    "                continue # ignore\n",
    "            # gather their keys, i.e. what they hold\n",
    "            keys = [m.key() for m in inputs]\n",
    "            # calculate the compatibilities\n",
    "            scores = [k.dot(q) for k in keys]\n",
    "            # softmax them so they sum to 1\n",
    "            scores = np.exp(scores)\n",
    "            scores = scores / np.sum(scores)\n",
    "            # gather the appropriate values with a weighted sum\n",
    "            values = [m.value() for m in inputs]\n",
    "            update = sum([s * v for s, v in zip(scores, values)])\n",
    "            updates.append(update)\n",
    "\n",
    "        for n,u in zip(self.nodes, updates):\n",
    "            n.data = n.data + u # residual connection"
   ]
  },
  {
   "cell_type": "code",
   "execution_count": 4,
   "id": "722c34f6-ceea-4190-99b2-89fd1e58b958",
   "metadata": {},
   "outputs": [],
   "source": [
    "g = Graph()"
   ]
  },
  {
   "cell_type": "code",
   "execution_count": 5,
   "id": "c258db24-a128-4834-81af-380504e065f0",
   "metadata": {},
   "outputs": [],
   "source": [
    "g.run()"
   ]
  },
  {
   "cell_type": "code",
   "execution_count": 6,
   "id": "61d35d53-ef5f-455f-8dc4-fe441b03a1b0",
   "metadata": {},
   "outputs": [
    {
     "data": {
      "text/plain": [
       "array([-19.19484004,   6.97836972,  12.94827538, -11.9027061 ,\n",
       "         9.16783912,   9.00492918,   2.59671444,  22.25372667,\n",
       "         3.52819385,  -9.37056147,  11.16274127, -14.75526086,\n",
       "       -27.26950209,   4.17288922,   5.75706181, -22.99143236,\n",
       "        11.26445524,  -9.86872412,  -2.27152432,  -3.83321625])"
      ]
     },
     "execution_count": 6,
     "metadata": {},
     "output_type": "execute_result"
    }
   ],
   "source": [
    "g.nodes[0].value()"
   ]
  },
  {
   "cell_type": "code",
   "execution_count": 8,
   "id": "9ed95505-a326-4d02-9919-ceb3a8ae719c",
   "metadata": {},
   "outputs": [
    {
     "data": {
      "text/plain": [
       "array([ -1.85336748,  -0.78992899,   1.44651486, -10.05951407,\n",
       "         4.8522011 ,   1.53458908,   2.0938737 ,  -0.23831768,\n",
       "        -1.53342003,   0.35576812,  -2.62942549,   3.51083561,\n",
       "        -3.00156765,   0.85751808,   3.56824856,  -4.91785425,\n",
       "        -0.13923238,   0.19038518,   1.39853444,  -6.03155581])"
      ]
     },
     "execution_count": 8,
     "metadata": {},
     "output_type": "execute_result"
    }
   ],
   "source": [
    "g.nodes[0].data"
   ]
  },
  {
   "cell_type": "code",
   "execution_count": 11,
   "id": "320bc355-9f51-4d5c-95ac-298dfabfa0b4",
   "metadata": {},
   "outputs": [
    {
     "data": {
      "text/plain": [
       "[[9, 6],\n",
       " [6, 5],\n",
       " [6, 9],\n",
       " [0, 5],\n",
       " [7, 6],\n",
       " [5, 9],\n",
       " [6, 3],\n",
       " [3, 6],\n",
       " [9, 7],\n",
       " [6, 9],\n",
       " [5, 9],\n",
       " [8, 9],\n",
       " [3, 2],\n",
       " [1, 8],\n",
       " [7, 4],\n",
       " [2, 4],\n",
       " [7, 1],\n",
       " [5, 9],\n",
       " [1, 6],\n",
       " [9, 6],\n",
       " [5, 6],\n",
       " [9, 6],\n",
       " [2, 4],\n",
       " [2, 6],\n",
       " [2, 2],\n",
       " [7, 1],\n",
       " [3, 6],\n",
       " [9, 6],\n",
       " [6, 8],\n",
       " [3, 6],\n",
       " [3, 5],\n",
       " [3, 2],\n",
       " [1, 7],\n",
       " [7, 4],\n",
       " [1, 1],\n",
       " [6, 3],\n",
       " [9, 1],\n",
       " [7, 6],\n",
       " [1, 6],\n",
       " [5, 6]]"
      ]
     },
     "execution_count": 11,
     "metadata": {},
     "output_type": "execute_result"
    }
   ],
   "source": [
    "g.edges"
   ]
  },
  {
   "cell_type": "code",
   "execution_count": 13,
   "id": "d4fe76a7-8371-472c-83b0-95027a6a170d",
   "metadata": {},
   "outputs": [
    {
     "data": {
      "text/plain": [
       "(20,)"
      ]
     },
     "execution_count": 13,
     "metadata": {},
     "output_type": "execute_result"
    }
   ],
   "source": [
    "g.nodes[0].data.shape"
   ]
  },
  {
   "cell_type": "code",
   "execution_count": null,
   "id": "1bd0a701-5325-47ab-b70e-202658233b02",
   "metadata": {},
   "outputs": [],
   "source": []
  }
 ],
 "metadata": {
  "kernelspec": {
   "display_name": "Python 3 (ipykernel)",
   "language": "python",
   "name": "python3"
  },
  "language_info": {
   "codemirror_mode": {
    "name": "ipython",
    "version": 3
   },
   "file_extension": ".py",
   "mimetype": "text/x-python",
   "name": "python",
   "nbconvert_exporter": "python",
   "pygments_lexer": "ipython3",
   "version": "3.10.5"
  }
 },
 "nbformat": 4,
 "nbformat_minor": 5
}
